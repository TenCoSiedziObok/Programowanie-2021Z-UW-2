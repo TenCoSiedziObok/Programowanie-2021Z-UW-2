{
  "nbformat": 4,
  "nbformat_minor": 0,
  "metadata": {
    "colab": {
      "name": "Programowanie 2 - zajęcia 7",
      "provenance": []
    },
    "kernelspec": {
      "name": "python3",
      "display_name": "Python 3"
    },
    "language_info": {
      "name": "python"
    }
  },
  "cells": [
    {
      "cell_type": "code",
      "metadata": {
        "colab": {
          "base_uri": "https://localhost:8080/"
        },
        "id": "jZuEUPUTnC3i",
        "outputId": "69d31eac-3f68-4cc5-dc87-53c4ba6233be"
      },
      "source": [
        "import numpy as np\n",
        "import pandas as pd\n",
        "print(\"Done\")"
      ],
      "execution_count": null,
      "outputs": [
        {
          "output_type": "stream",
          "name": "stdout",
          "text": [
            "Done\n"
          ]
        }
      ]
    },
    {
      "cell_type": "code",
      "metadata": {
        "id": "BXNwbWlurEAZ"
      },
      "source": [
        "MAIN_DATA = pd.read_csv(\"/content/sample_data/train.csv\")"
      ],
      "execution_count": null,
      "outputs": []
    },
    {
      "cell_type": "code",
      "metadata": {
        "id": "_zbK4zUGoqOZ"
      },
      "source": [
        "df = MAIN_DATA.copy()"
      ],
      "execution_count": null,
      "outputs": []
    },
    {
      "cell_type": "code",
      "metadata": {
        "id": "veiE9c0vsAV3"
      },
      "source": [
        "df.head()"
      ],
      "execution_count": null,
      "outputs": []
    },
    {
      "cell_type": "code",
      "metadata": {
        "id": "vO78SIY0sXvS"
      },
      "source": [
        "df.tail(10)"
      ],
      "execution_count": null,
      "outputs": []
    },
    {
      "cell_type": "code",
      "metadata": {
        "id": "yo0hSuXgsfBw"
      },
      "source": [
        "df.info()"
      ],
      "execution_count": null,
      "outputs": []
    },
    {
      "cell_type": "code",
      "metadata": {
        "id": "cmkPLyuYs1Gh"
      },
      "source": [
        "df[[\"Name\", \"Age\", \"Sex\"]]"
      ],
      "execution_count": null,
      "outputs": []
    },
    {
      "cell_type": "code",
      "metadata": {
        "colab": {
          "base_uri": "https://localhost:8080/"
        },
        "id": "QVIEGCjutQdI",
        "outputId": "312ac24c-2934-4404-8ff0-164aa833c981"
      },
      "source": [
        "type(df)"
      ],
      "execution_count": null,
      "outputs": [
        {
          "output_type": "execute_result",
          "data": {
            "text/plain": [
              "pandas.core.frame.DataFrame"
            ]
          },
          "metadata": {},
          "execution_count": 24
        }
      ]
    },
    {
      "cell_type": "code",
      "metadata": {
        "id": "t31hX4IDtV-Q"
      },
      "source": [
        "df['Age']"
      ],
      "execution_count": null,
      "outputs": []
    },
    {
      "cell_type": "markdown",
      "metadata": {
        "id": "EoBLVEjmtqzH"
      },
      "source": [
        "Typy danych w pandas:\n",
        "\n",
        "- Seria - dane jednowymiarowe\n",
        "  w seriach można definiować swoje własne indeksy"
      ]
    },
    {
      "cell_type": "code",
      "metadata": {
        "id": "BfBXbfoguGjo"
      },
      "source": [
        "seria = pd.Series(lista, index = [\"a\", \"b\", \"c\"])"
      ],
      "execution_count": null,
      "outputs": []
    },
    {
      "cell_type": "code",
      "metadata": {
        "colab": {
          "base_uri": "https://localhost:8080/"
        },
        "id": "sMPQ3ITxuXIH",
        "outputId": "bda713e8-4c9e-486c-cee7-ddc826ae631d"
      },
      "source": [
        "seria"
      ],
      "execution_count": null,
      "outputs": [
        {
          "output_type": "execute_result",
          "data": {
            "text/plain": [
              "a    4\n",
              "b    5\n",
              "c    6\n",
              "dtype: int64"
            ]
          },
          "metadata": {},
          "execution_count": 42
        }
      ]
    },
    {
      "cell_type": "code",
      "metadata": {
        "id": "bfi5ARe3tqjA"
      },
      "source": [
        "lista = [4, 5, 6]"
      ],
      "execution_count": null,
      "outputs": []
    },
    {
      "cell_type": "code",
      "metadata": {
        "id": "SEgWDsmtvRPf"
      },
      "source": [
        "lista[0:4:2]"
      ],
      "execution_count": null,
      "outputs": []
    },
    {
      "cell_type": "code",
      "metadata": {
        "id": "FC4f6PYJvY3n"
      },
      "source": [
        "seria[0:5:2]"
      ],
      "execution_count": null,
      "outputs": []
    },
    {
      "cell_type": "code",
      "metadata": {
        "id": "B9N9EK_jvjoy"
      },
      "source": [
        "df_test = pd.DataFrame({\"pierwsza kolumna\" : [1,2,3], \"druga kolumna\": [4, 5, 6] })"
      ],
      "execution_count": null,
      "outputs": []
    },
    {
      "cell_type": "code",
      "metadata": {
        "colab": {
          "base_uri": "https://localhost:8080/",
          "height": 143
        },
        "id": "267Geyk3vu2n",
        "outputId": "1319747b-462d-43d9-fa5a-b8d12aed55a7"
      },
      "source": [
        "df_test\n"
      ],
      "execution_count": null,
      "outputs": [
        {
          "output_type": "execute_result",
          "data": {
            "text/html": [
              "<div>\n",
              "<style scoped>\n",
              "    .dataframe tbody tr th:only-of-type {\n",
              "        vertical-align: middle;\n",
              "    }\n",
              "\n",
              "    .dataframe tbody tr th {\n",
              "        vertical-align: top;\n",
              "    }\n",
              "\n",
              "    .dataframe thead th {\n",
              "        text-align: right;\n",
              "    }\n",
              "</style>\n",
              "<table border=\"1\" class=\"dataframe\">\n",
              "  <thead>\n",
              "    <tr style=\"text-align: right;\">\n",
              "      <th></th>\n",
              "      <th>pierwsza kolumna</th>\n",
              "      <th>druga kolumna</th>\n",
              "    </tr>\n",
              "  </thead>\n",
              "  <tbody>\n",
              "    <tr>\n",
              "      <th>0</th>\n",
              "      <td>1</td>\n",
              "      <td>4</td>\n",
              "    </tr>\n",
              "    <tr>\n",
              "      <th>1</th>\n",
              "      <td>2</td>\n",
              "      <td>5</td>\n",
              "    </tr>\n",
              "    <tr>\n",
              "      <th>2</th>\n",
              "      <td>3</td>\n",
              "      <td>6</td>\n",
              "    </tr>\n",
              "  </tbody>\n",
              "</table>\n",
              "</div>"
            ],
            "text/plain": [
              "   pierwsza kolumna  druga kolumna\n",
              "0                 1              4\n",
              "1                 2              5\n",
              "2                 3              6"
            ]
          },
          "metadata": {},
          "execution_count": 56
        }
      ]
    },
    {
      "cell_type": "code",
      "metadata": {
        "id": "nemzMx4Kv5uP"
      },
      "source": [
        "#.iloc[indeksy_wierszy, indeksy_kolumn]\n",
        "#.loc [indeksy_wierszy, nazwy_kolumn]"
      ],
      "execution_count": null,
      "outputs": []
    },
    {
      "cell_type": "code",
      "metadata": {
        "id": "T-89TAfvwQCe"
      },
      "source": [
        "df_test.iloc[0:2 , 0:2]"
      ],
      "execution_count": null,
      "outputs": []
    },
    {
      "cell_type": "code",
      "metadata": {
        "colab": {
          "base_uri": "https://localhost:8080/",
          "height": 143
        },
        "id": "NuESIYw6w2fn",
        "outputId": "e2ce2ff8-eab3-4916-fc6a-cdcd15d00750"
      },
      "source": [
        "df_test"
      ],
      "execution_count": null,
      "outputs": [
        {
          "output_type": "execute_result",
          "data": {
            "text/html": [
              "<div>\n",
              "<style scoped>\n",
              "    .dataframe tbody tr th:only-of-type {\n",
              "        vertical-align: middle;\n",
              "    }\n",
              "\n",
              "    .dataframe tbody tr th {\n",
              "        vertical-align: top;\n",
              "    }\n",
              "\n",
              "    .dataframe thead th {\n",
              "        text-align: right;\n",
              "    }\n",
              "</style>\n",
              "<table border=\"1\" class=\"dataframe\">\n",
              "  <thead>\n",
              "    <tr style=\"text-align: right;\">\n",
              "      <th></th>\n",
              "      <th>pierwsza kolumna</th>\n",
              "      <th>druga kolumna</th>\n",
              "      <th>trzecia kolumna</th>\n",
              "    </tr>\n",
              "  </thead>\n",
              "  <tbody>\n",
              "    <tr>\n",
              "      <th>0</th>\n",
              "      <td>1</td>\n",
              "      <td>4</td>\n",
              "      <td>Patryk</td>\n",
              "    </tr>\n",
              "    <tr>\n",
              "      <th>1</th>\n",
              "      <td>2</td>\n",
              "      <td>5</td>\n",
              "      <td>Ola</td>\n",
              "    </tr>\n",
              "    <tr>\n",
              "      <th>2</th>\n",
              "      <td>3</td>\n",
              "      <td>6</td>\n",
              "      <td>Ala</td>\n",
              "    </tr>\n",
              "  </tbody>\n",
              "</table>\n",
              "</div>"
            ],
            "text/plain": [
              "   pierwsza kolumna  druga kolumna trzecia kolumna\n",
              "0                 1              4          Patryk\n",
              "1                 2              5             Ola\n",
              "2                 3              6             Ala"
            ]
          },
          "metadata": {},
          "execution_count": 79
        }
      ]
    },
    {
      "cell_type": "code",
      "metadata": {
        "id": "GRzlHogKw3zY"
      },
      "source": [
        "df_test[\"trzecia kolumna\"] = [\"Patryk\", \"Ola\", \"Ala\"]"
      ],
      "execution_count": null,
      "outputs": []
    },
    {
      "cell_type": "code",
      "metadata": {
        "id": "nMszhulKxiFm"
      },
      "source": [
        "del(df_test[\"trzecia kolumna\"])"
      ],
      "execution_count": null,
      "outputs": []
    },
    {
      "cell_type": "code",
      "metadata": {
        "id": "DPxns6l0xVYO"
      },
      "source": [
        "#df_test[df_test > 5]"
      ],
      "execution_count": null,
      "outputs": []
    },
    {
      "cell_type": "code",
      "metadata": {
        "colab": {
          "base_uri": "https://localhost:8080/"
        },
        "id": "6__O6keRx5g3",
        "outputId": "2b018319-ef34-47bc-e523-d49bab1f32ec"
      },
      "source": [
        "df_test[\"druga kolumna\"].mean()"
      ],
      "execution_count": null,
      "outputs": [
        {
          "output_type": "execute_result",
          "data": {
            "text/plain": [
              "5.0"
            ]
          },
          "metadata": {},
          "execution_count": 81
        }
      ]
    },
    {
      "cell_type": "code",
      "metadata": {
        "id": "x5Tfc3yzyTGX"
      },
      "source": [
        "df_test.describe()"
      ],
      "execution_count": null,
      "outputs": []
    },
    {
      "cell_type": "markdown",
      "metadata": {
        "id": "Il5i-BrMyflW"
      },
      "source": [
        "Iterowanie po DataFrame"
      ]
    },
    {
      "cell_type": "code",
      "metadata": {
        "colab": {
          "base_uri": "https://localhost:8080/"
        },
        "id": "K6ZoJ_k2yiT-",
        "outputId": "1be00903-4c43-444c-db0c-c7ccefc59b8c"
      },
      "source": [
        "lista"
      ],
      "execution_count": null,
      "outputs": [
        {
          "output_type": "execute_result",
          "data": {
            "text/plain": [
              "[4, 5, 6]"
            ]
          },
          "metadata": {},
          "execution_count": 83
        }
      ]
    },
    {
      "cell_type": "code",
      "metadata": {
        "colab": {
          "base_uri": "https://localhost:8080/"
        },
        "id": "oU5zDItxykV2",
        "outputId": "2c5249a8-a460-4763-deff-9bd272d8bffb"
      },
      "source": [
        "for elem in lista:\n",
        "  print(elem)"
      ],
      "execution_count": null,
      "outputs": [
        {
          "output_type": "stream",
          "name": "stdout",
          "text": [
            "4\n",
            "5\n",
            "6\n"
          ]
        }
      ]
    },
    {
      "cell_type": "code",
      "metadata": {
        "id": "wBRWNmhlyoz-"
      },
      "source": [
        "for elem in df_test:\n",
        "  print(elem)"
      ],
      "execution_count": null,
      "outputs": []
    },
    {
      "cell_type": "code",
      "metadata": {
        "id": "n-cXhMpPy55W"
      },
      "source": [
        "# for i, row in df_test.iterrows():\n",
        "#   print(i, row)\n",
        "\n",
        "#TEGO NIE ROBIMY"
      ],
      "execution_count": null,
      "outputs": []
    },
    {
      "cell_type": "markdown",
      "metadata": {
        "id": "QoOFEwSRzajW"
      },
      "source": [
        "List Comprehension"
      ]
    },
    {
      "cell_type": "code",
      "metadata": {
        "colab": {
          "base_uri": "https://localhost:8080/",
          "height": 143
        },
        "id": "pd02CoL-zgZe",
        "outputId": "0ab5a6f8-8661-4a44-a985-f0b331c6ed6c"
      },
      "source": [
        "df_test"
      ],
      "execution_count": null,
      "outputs": [
        {
          "output_type": "execute_result",
          "data": {
            "text/html": [
              "<div>\n",
              "<style scoped>\n",
              "    .dataframe tbody tr th:only-of-type {\n",
              "        vertical-align: middle;\n",
              "    }\n",
              "\n",
              "    .dataframe tbody tr th {\n",
              "        vertical-align: top;\n",
              "    }\n",
              "\n",
              "    .dataframe thead th {\n",
              "        text-align: right;\n",
              "    }\n",
              "</style>\n",
              "<table border=\"1\" class=\"dataframe\">\n",
              "  <thead>\n",
              "    <tr style=\"text-align: right;\">\n",
              "      <th></th>\n",
              "      <th>pierwsza kolumna</th>\n",
              "      <th>druga kolumna</th>\n",
              "      <th>trzecia kolumna</th>\n",
              "      <th>czwarta kolumna</th>\n",
              "      <th>piąta kolumna</th>\n",
              "    </tr>\n",
              "  </thead>\n",
              "  <tbody>\n",
              "    <tr>\n",
              "      <th>0</th>\n",
              "      <td>1</td>\n",
              "      <td>4</td>\n",
              "      <td>Patryk</td>\n",
              "      <td>5</td>\n",
              "      <td>Pbtryk</td>\n",
              "    </tr>\n",
              "    <tr>\n",
              "      <th>1</th>\n",
              "      <td>2</td>\n",
              "      <td>5</td>\n",
              "      <td>Ola</td>\n",
              "      <td>6</td>\n",
              "      <td>Olb</td>\n",
              "    </tr>\n",
              "    <tr>\n",
              "      <th>2</th>\n",
              "      <td>3</td>\n",
              "      <td>6</td>\n",
              "      <td>Ala</td>\n",
              "      <td>7</td>\n",
              "      <td>Alb</td>\n",
              "    </tr>\n",
              "  </tbody>\n",
              "</table>\n",
              "</div>"
            ],
            "text/plain": [
              "   pierwsza kolumna  druga kolumna  ... czwarta kolumna  piąta kolumna\n",
              "0                 1              4  ...               5         Pbtryk\n",
              "1                 2              5  ...               6            Olb\n",
              "2                 3              6  ...               7            Alb\n",
              "\n",
              "[3 rows x 5 columns]"
            ]
          },
          "metadata": {},
          "execution_count": 94
        }
      ]
    },
    {
      "cell_type": "code",
      "metadata": {
        "id": "lQh6I9F0zwvo"
      },
      "source": [
        "df_test[\"czwarta kolumna\"] = [elem + 1 for elem in df_test[\"druga kolumna\"]]"
      ],
      "execution_count": null,
      "outputs": []
    },
    {
      "cell_type": "code",
      "metadata": {
        "id": "-EPdQKdVz2lF"
      },
      "source": [
        "# for elem in lista:\n",
        "#   print(elem + 1)"
      ],
      "execution_count": null,
      "outputs": []
    },
    {
      "cell_type": "code",
      "metadata": {
        "id": "gX6x05vD0kdv"
      },
      "source": [
        "df_test[\"piąta kolumna\"] = [elem.replace(\"a\", \"b\") for elem in df_test[\"trzecia kolumna\"]]"
      ],
      "execution_count": null,
      "outputs": []
    },
    {
      "cell_type": "code",
      "metadata": {
        "id": "igKLXvXd1UWe"
      },
      "source": [
        "df.head()"
      ],
      "execution_count": null,
      "outputs": []
    }
  ]
}