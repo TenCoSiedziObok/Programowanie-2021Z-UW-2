{
  "nbformat": 4,
  "nbformat_minor": 0,
  "metadata": {
    "colab": {
      "name": "Programowanie 2 - zajęcia 8",
      "provenance": []
    },
    "kernelspec": {
      "name": "python3",
      "display_name": "Python 3"
    },
    "language_info": {
      "name": "python"
    }
  },
  "cells": [
    {
      "cell_type": "code",
      "metadata": {
        "colab": {
          "base_uri": "https://localhost:8080/"
        },
        "id": "BwvXHYwvn5jd",
        "outputId": "1bdfe6cf-61d8-4b33-b8e5-3ef9df2586e1"
      },
      "source": [
        "import pandas as pd\n",
        "print(\"Done\")"
      ],
      "execution_count": 7,
      "outputs": [
        {
          "output_type": "stream",
          "name": "stdout",
          "text": [
            "Done\n"
          ]
        }
      ]
    },
    {
      "cell_type": "code",
      "metadata": {
        "id": "dxC9af6gpfJy"
      },
      "source": [
        "MAIN_DATA = pd.read_csv(\"/content/train(2).csv\")"
      ],
      "execution_count": 8,
      "outputs": []
    },
    {
      "cell_type": "code",
      "metadata": {
        "id": "92DJqdrGpi_F"
      },
      "source": [
        "df = MAIN_DATA[[\"Name\", \"Age\", \"Sex\"]].copy()"
      ],
      "execution_count": 9,
      "outputs": []
    },
    {
      "cell_type": "code",
      "metadata": {
        "colab": {
          "base_uri": "https://localhost:8080/",
          "height": 424
        },
        "id": "e4vpGbnfpof-",
        "outputId": "7e8927bf-d127-4880-a145-dad186d114d7"
      },
      "source": [
        "df"
      ],
      "execution_count": 10,
      "outputs": [
        {
          "output_type": "execute_result",
          "data": {
            "text/html": [
              "<div>\n",
              "<style scoped>\n",
              "    .dataframe tbody tr th:only-of-type {\n",
              "        vertical-align: middle;\n",
              "    }\n",
              "\n",
              "    .dataframe tbody tr th {\n",
              "        vertical-align: top;\n",
              "    }\n",
              "\n",
              "    .dataframe thead th {\n",
              "        text-align: right;\n",
              "    }\n",
              "</style>\n",
              "<table border=\"1\" class=\"dataframe\">\n",
              "  <thead>\n",
              "    <tr style=\"text-align: right;\">\n",
              "      <th></th>\n",
              "      <th>Name</th>\n",
              "      <th>Age</th>\n",
              "      <th>Sex</th>\n",
              "    </tr>\n",
              "  </thead>\n",
              "  <tbody>\n",
              "    <tr>\n",
              "      <th>0</th>\n",
              "      <td>Braund, Mr. Owen Harris</td>\n",
              "      <td>22.0</td>\n",
              "      <td>male</td>\n",
              "    </tr>\n",
              "    <tr>\n",
              "      <th>1</th>\n",
              "      <td>Cumings, Mrs. John Bradley (Florence Briggs Th...</td>\n",
              "      <td>38.0</td>\n",
              "      <td>female</td>\n",
              "    </tr>\n",
              "    <tr>\n",
              "      <th>2</th>\n",
              "      <td>Heikkinen, Miss. Laina</td>\n",
              "      <td>26.0</td>\n",
              "      <td>female</td>\n",
              "    </tr>\n",
              "    <tr>\n",
              "      <th>3</th>\n",
              "      <td>Futrelle, Mrs. Jacques Heath (Lily May Peel)</td>\n",
              "      <td>35.0</td>\n",
              "      <td>female</td>\n",
              "    </tr>\n",
              "    <tr>\n",
              "      <th>4</th>\n",
              "      <td>Allen, Mr. William Henry</td>\n",
              "      <td>35.0</td>\n",
              "      <td>male</td>\n",
              "    </tr>\n",
              "    <tr>\n",
              "      <th>...</th>\n",
              "      <td>...</td>\n",
              "      <td>...</td>\n",
              "      <td>...</td>\n",
              "    </tr>\n",
              "    <tr>\n",
              "      <th>886</th>\n",
              "      <td>Montvila, Rev. Juozas</td>\n",
              "      <td>27.0</td>\n",
              "      <td>male</td>\n",
              "    </tr>\n",
              "    <tr>\n",
              "      <th>887</th>\n",
              "      <td>Graham, Miss. Margaret Edith</td>\n",
              "      <td>19.0</td>\n",
              "      <td>female</td>\n",
              "    </tr>\n",
              "    <tr>\n",
              "      <th>888</th>\n",
              "      <td>Johnston, Miss. Catherine Helen \"Carrie\"</td>\n",
              "      <td>NaN</td>\n",
              "      <td>female</td>\n",
              "    </tr>\n",
              "    <tr>\n",
              "      <th>889</th>\n",
              "      <td>Behr, Mr. Karl Howell</td>\n",
              "      <td>26.0</td>\n",
              "      <td>male</td>\n",
              "    </tr>\n",
              "    <tr>\n",
              "      <th>890</th>\n",
              "      <td>Dooley, Mr. Patrick</td>\n",
              "      <td>32.0</td>\n",
              "      <td>male</td>\n",
              "    </tr>\n",
              "  </tbody>\n",
              "</table>\n",
              "<p>891 rows × 3 columns</p>\n",
              "</div>"
            ],
            "text/plain": [
              "                                                  Name   Age     Sex\n",
              "0                              Braund, Mr. Owen Harris  22.0    male\n",
              "1    Cumings, Mrs. John Bradley (Florence Briggs Th...  38.0  female\n",
              "2                               Heikkinen, Miss. Laina  26.0  female\n",
              "3         Futrelle, Mrs. Jacques Heath (Lily May Peel)  35.0  female\n",
              "4                             Allen, Mr. William Henry  35.0    male\n",
              "..                                                 ...   ...     ...\n",
              "886                              Montvila, Rev. Juozas  27.0    male\n",
              "887                       Graham, Miss. Margaret Edith  19.0  female\n",
              "888           Johnston, Miss. Catherine Helen \"Carrie\"   NaN  female\n",
              "889                              Behr, Mr. Karl Howell  26.0    male\n",
              "890                                Dooley, Mr. Patrick  32.0    male\n",
              "\n",
              "[891 rows x 3 columns]"
            ]
          },
          "metadata": {},
          "execution_count": 10
        }
      ]
    },
    {
      "cell_type": "code",
      "metadata": {
        "id": "bnRUgoy-p7No"
      },
      "source": [
        "#katastrofa - 1912\n",
        "katastrofa = 1912\n",
        "df[\"Rok urodzenia\"] = [katastrofa - wiek for wiek in df[\"Age\"]]"
      ],
      "execution_count": 11,
      "outputs": []
    },
    {
      "cell_type": "code",
      "metadata": {
        "id": "Xx_TT1uOvFmy"
      },
      "source": [
        "df"
      ],
      "execution_count": null,
      "outputs": []
    },
    {
      "cell_type": "code",
      "metadata": {
        "id": "k-kmukFfviVk"
      },
      "source": [
        "df[\"Sex\"].value_counts()"
      ],
      "execution_count": null,
      "outputs": []
    },
    {
      "cell_type": "markdown",
      "metadata": {
        "id": "-Y-lt4j9wQ8K"
      },
      "source": [
        "Funkcje"
      ]
    },
    {
      "cell_type": "code",
      "metadata": {
        "id": "b86J6KOZwQDT"
      },
      "source": [
        "#Funkcja i metoda?\n",
        "\n",
        "#Metoda zawsze jest uzależniona od obiektu na ktorym działamy \n",
        "#.metoda\n",
        "\n",
        "#Funkcje nie są uzaleznione od obiektu\n",
        "#funkcja()\n",
        "\n"
      ],
      "execution_count": null,
      "outputs": []
    },
    {
      "cell_type": "code",
      "metadata": {
        "id": "F-XtxJF6xLls"
      },
      "source": [
        "def drukarka():\n",
        "  print(\"To jest strona testowa\")"
      ],
      "execution_count": 17,
      "outputs": []
    },
    {
      "cell_type": "code",
      "metadata": {
        "colab": {
          "base_uri": "https://localhost:8080/"
        },
        "id": "lkVHdm0OyGV5",
        "outputId": "b1288c12-6075-4421-ec62-eda9761881cc"
      },
      "source": [
        "drukarka()"
      ],
      "execution_count": 18,
      "outputs": [
        {
          "output_type": "stream",
          "name": "stdout",
          "text": [
            "To jest strona testowa\n"
          ]
        }
      ]
    },
    {
      "cell_type": "code",
      "metadata": {
        "id": "gFiQSX6eyGRm"
      },
      "source": [
        "def dodawanie(liczba1, liczba2):\n",
        "  wynik = liczba1 + liczba2\n",
        "  return wynik\n",
        "  \n",
        "  \n",
        "\n"
      ],
      "execution_count": 31,
      "outputs": []
    },
    {
      "cell_type": "code",
      "metadata": {
        "id": "WnjsS4181euR"
      },
      "source": [
        "tekst = \"PAtr$Yk JEST Z!aSpAnY      \""
      ],
      "execution_count": 48,
      "outputs": []
    },
    {
      "cell_type": "code",
      "metadata": {
        "id": "xKYuzdKD14nA"
      },
      "source": [
        "tekst_czysty = tekst.lower().replace(\"$\", \"\").replace(\"!\", \"\").strip().capitalize() "
      ],
      "execution_count": 45,
      "outputs": []
    },
    {
      "cell_type": "code",
      "metadata": {
        "colab": {
          "base_uri": "https://localhost:8080/",
          "height": 36
        },
        "id": "E9-USzWU2OY_",
        "outputId": "945aaaaa-c054-42d1-ae9d-055957f199bf"
      },
      "source": [
        "tekst_czysty"
      ],
      "execution_count": 46,
      "outputs": [
        {
          "output_type": "execute_result",
          "data": {
            "application/vnd.google.colaboratory.intrinsic+json": {
              "type": "string"
            },
            "text/plain": [
              "'Patryk jest zaspany'"
            ]
          },
          "metadata": {},
          "execution_count": 46
        }
      ]
    },
    {
      "cell_type": "code",
      "metadata": {
        "id": "zgKkDs_V2ZYe"
      },
      "source": [
        "def clean_text(tekst):\n",
        "  tekst_czysty = tekst.lower().replace(\"$\", \"\").replace(\"!\", \"\").strip().capitalize() \n",
        "  return tekst_czysty"
      ],
      "execution_count": 47,
      "outputs": []
    },
    {
      "cell_type": "code",
      "metadata": {
        "colab": {
          "base_uri": "https://localhost:8080/",
          "height": 36
        },
        "id": "Uo_1zJ0F2s-p",
        "outputId": "e91222a5-aed5-4d7a-bf22-7c4e95029810"
      },
      "source": [
        "tekst"
      ],
      "execution_count": 49,
      "outputs": [
        {
          "output_type": "execute_result",
          "data": {
            "application/vnd.google.colaboratory.intrinsic+json": {
              "type": "string"
            },
            "text/plain": [
              "'PAtr$Yk JEST Z!aSpAnY      '"
            ]
          },
          "metadata": {},
          "execution_count": 49
        }
      ]
    },
    {
      "cell_type": "code",
      "metadata": {
        "id": "4rG3668-2uVV"
      },
      "source": [
        "tekst_czysty = clean_text(tekst)"
      ],
      "execution_count": 50,
      "outputs": []
    },
    {
      "cell_type": "code",
      "metadata": {
        "colab": {
          "base_uri": "https://localhost:8080/",
          "height": 36
        },
        "id": "AvO8hQqE2xi9",
        "outputId": "6bdb2881-d35d-4161-e807-da198d318de7"
      },
      "source": [
        "tekst_czysty"
      ],
      "execution_count": 51,
      "outputs": [
        {
          "output_type": "execute_result",
          "data": {
            "application/vnd.google.colaboratory.intrinsic+json": {
              "type": "string"
            },
            "text/plain": [
              "'Patryk jest zaspany'"
            ]
          },
          "metadata": {},
          "execution_count": 51
        }
      ]
    },
    {
      "cell_type": "code",
      "metadata": {
        "id": "wWFyMoJd28aZ"
      },
      "source": [
        "tekst2 = \"A!La M$a KOTA    \""
      ],
      "execution_count": 52,
      "outputs": []
    },
    {
      "cell_type": "code",
      "metadata": {
        "id": "cn9hbKEs3Bzw"
      },
      "source": [
        "tekst2_czysty = clean_text(tekst2)"
      ],
      "execution_count": 53,
      "outputs": []
    },
    {
      "cell_type": "code",
      "metadata": {
        "colab": {
          "base_uri": "https://localhost:8080/",
          "height": 36
        },
        "id": "ZcBvc7r-3Fj2",
        "outputId": "a5cba175-9e80-4b66-dac4-5591c11d1cb3"
      },
      "source": [
        "tekst2_czysty"
      ],
      "execution_count": 54,
      "outputs": [
        {
          "output_type": "execute_result",
          "data": {
            "application/vnd.google.colaboratory.intrinsic+json": {
              "type": "string"
            },
            "text/plain": [
              "'Ala ma kota'"
            ]
          },
          "metadata": {},
          "execution_count": 54
        }
      ]
    },
    {
      "cell_type": "code",
      "metadata": {
        "id": "nCa5bzoS3qQ1"
      },
      "source": [
        "df_oceny = pd.DataFrame({\"Nazwisko i imię: \" : [\"Hubar, Patryk\", \"Nowak, Jan\", \"Kowalski, Andrzej\"], \"Punkty\" : [15, 12, 1]})"
      ],
      "execution_count": 55,
      "outputs": []
    },
    {
      "cell_type": "code",
      "metadata": {
        "colab": {
          "base_uri": "https://localhost:8080/",
          "height": 143
        },
        "id": "1Ke3hA114Dwd",
        "outputId": "7e5d71e7-1682-4d0b-f637-50feba12bfaa"
      },
      "source": [
        "df_oceny"
      ],
      "execution_count": 57,
      "outputs": [
        {
          "output_type": "execute_result",
          "data": {
            "text/html": [
              "<div>\n",
              "<style scoped>\n",
              "    .dataframe tbody tr th:only-of-type {\n",
              "        vertical-align: middle;\n",
              "    }\n",
              "\n",
              "    .dataframe tbody tr th {\n",
              "        vertical-align: top;\n",
              "    }\n",
              "\n",
              "    .dataframe thead th {\n",
              "        text-align: right;\n",
              "    }\n",
              "</style>\n",
              "<table border=\"1\" class=\"dataframe\">\n",
              "  <thead>\n",
              "    <tr style=\"text-align: right;\">\n",
              "      <th></th>\n",
              "      <th>Nazwisko i imię:</th>\n",
              "      <th>Punkty</th>\n",
              "    </tr>\n",
              "  </thead>\n",
              "  <tbody>\n",
              "    <tr>\n",
              "      <th>0</th>\n",
              "      <td>Hubar, Patryk</td>\n",
              "      <td>15</td>\n",
              "    </tr>\n",
              "    <tr>\n",
              "      <th>1</th>\n",
              "      <td>Nowak, Jan</td>\n",
              "      <td>12</td>\n",
              "    </tr>\n",
              "    <tr>\n",
              "      <th>2</th>\n",
              "      <td>Kowalski, Andrzej</td>\n",
              "      <td>1</td>\n",
              "    </tr>\n",
              "  </tbody>\n",
              "</table>\n",
              "</div>"
            ],
            "text/plain": [
              "   Nazwisko i imię:   Punkty\n",
              "0      Hubar, Patryk      15\n",
              "1         Nowak, Jan      12\n",
              "2  Kowalski, Andrzej       1"
            ]
          },
          "metadata": {},
          "execution_count": 57
        }
      ]
    },
    {
      "cell_type": "code",
      "metadata": {
        "id": "CbCotkbp4QSp"
      },
      "source": [
        "def jaka_ocena(punkty):\n",
        "  if punkty >= 15:\n",
        "    return \"Bardzo dobry\"\n",
        "  elif punkty < 15 and punkty >= 8:\n",
        "    return \"Dobry\"\n",
        "  else:\n",
        "    return \"Niedostateczny\""
      ],
      "execution_count": 58,
      "outputs": []
    },
    {
      "cell_type": "code",
      "metadata": {
        "id": "ynizmmrq4uxD"
      },
      "source": [
        "jaka_ocena(1)"
      ],
      "execution_count": null,
      "outputs": []
    },
    {
      "cell_type": "code",
      "metadata": {
        "id": "2yHE53135KLI"
      },
      "source": [
        "#Apply\n",
        "\n",
        "df_oceny[\"Ocena\"] = df_oceny[\"Punkty\"].apply(jaka_ocena)"
      ],
      "execution_count": 65,
      "outputs": []
    },
    {
      "cell_type": "code",
      "metadata": {
        "colab": {
          "base_uri": "https://localhost:8080/",
          "height": 143
        },
        "id": "A8Qd-SjM5wsz",
        "outputId": "fca76753-4c9b-4d92-c8a5-af9771b5500b"
      },
      "source": [
        "df_oceny"
      ],
      "execution_count": 63,
      "outputs": [
        {
          "output_type": "execute_result",
          "data": {
            "text/html": [
              "<div>\n",
              "<style scoped>\n",
              "    .dataframe tbody tr th:only-of-type {\n",
              "        vertical-align: middle;\n",
              "    }\n",
              "\n",
              "    .dataframe tbody tr th {\n",
              "        vertical-align: top;\n",
              "    }\n",
              "\n",
              "    .dataframe thead th {\n",
              "        text-align: right;\n",
              "    }\n",
              "</style>\n",
              "<table border=\"1\" class=\"dataframe\">\n",
              "  <thead>\n",
              "    <tr style=\"text-align: right;\">\n",
              "      <th></th>\n",
              "      <th>Nazwisko i imię:</th>\n",
              "      <th>Punkty</th>\n",
              "      <th>Ocena</th>\n",
              "    </tr>\n",
              "  </thead>\n",
              "  <tbody>\n",
              "    <tr>\n",
              "      <th>0</th>\n",
              "      <td>Hubar, Patryk</td>\n",
              "      <td>15</td>\n",
              "      <td>Bardzo dobry</td>\n",
              "    </tr>\n",
              "    <tr>\n",
              "      <th>1</th>\n",
              "      <td>Nowak, Jan</td>\n",
              "      <td>12</td>\n",
              "      <td>Dobry</td>\n",
              "    </tr>\n",
              "    <tr>\n",
              "      <th>2</th>\n",
              "      <td>Kowalski, Andrzej</td>\n",
              "      <td>1</td>\n",
              "      <td>Niedostateczny</td>\n",
              "    </tr>\n",
              "  </tbody>\n",
              "</table>\n",
              "</div>"
            ],
            "text/plain": [
              "   Nazwisko i imię:   Punkty           Ocena\n",
              "0      Hubar, Patryk      15    Bardzo dobry\n",
              "1         Nowak, Jan      12           Dobry\n",
              "2  Kowalski, Andrzej       1  Niedostateczny"
            ]
          },
          "metadata": {},
          "execution_count": 63
        }
      ]
    }
  ]
}