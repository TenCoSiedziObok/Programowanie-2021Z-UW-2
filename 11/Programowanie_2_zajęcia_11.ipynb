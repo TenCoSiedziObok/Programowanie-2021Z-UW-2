{
  "nbformat": 4,
  "nbformat_minor": 0,
  "metadata": {
    "colab": {
      "name": "Programowanie 2 - zajęcia 11",
      "provenance": []
    },
    "kernelspec": {
      "name": "python3",
      "display_name": "Python 3"
    },
    "language_info": {
      "name": "python"
    }
  },
  "cells": [
    {
      "cell_type": "code",
      "source": [
        "!pip install spacy -U\n",
        "!python -m spacy download pl_core_news_sm"
      ],
      "metadata": {
        "id": "K_gBnzJ-6W8f"
      },
      "execution_count": null,
      "outputs": []
    },
    {
      "cell_type": "code",
      "source": [
        "!pip install rich"
      ],
      "metadata": {
        "id": "yqMhIO0F6kov"
      },
      "execution_count": null,
      "outputs": []
    },
    {
      "cell_type": "code",
      "execution_count": null,
      "metadata": {
        "id": "vRgjlyUg6QJ0"
      },
      "outputs": [],
      "source": [
        "import pandas as pd\n",
        "import numpy as np\n",
        "import regex as re\n",
        "from tqdm import tqdm\n",
        "import spacy\n",
        "from rich import inspect\n",
        "\n",
        "nlp = spacy.load(\"pl_core_news_sm\")\n"
      ]
    },
    {
      "cell_type": "code",
      "source": [
        "tekst = \"Ala miała kota w 1938 roku w Warszawie\"\n",
        "doc = nlp(tekst)"
      ],
      "metadata": {
        "id": "j0De9Qrr7PNf"
      },
      "execution_count": null,
      "outputs": []
    },
    {
      "cell_type": "code",
      "source": [
        "licznik_rzecz = 0\n",
        "licznik_przym = 0\n",
        "\n",
        "for elem in doc:\n",
        "  if elem.pos_ == \"NOUN\":\n",
        "    licznik_rzecz += 1\n",
        "  elif elem.pos_ == \"ADJ\":\n",
        "    licznik_przym += 1\n",
        "print(f\"Liczba rzeczowników: {licznik_rzecz}, oraz liczba przymiotników: {licznik_przym}\")"
      ],
      "metadata": {
        "colab": {
          "base_uri": "https://localhost:8080/"
        },
        "id": "POnDDuzm81z2",
        "outputId": "50e86a33-f2f5-423e-bed3-fc121d15e819"
      },
      "execution_count": null,
      "outputs": [
        {
          "output_type": "stream",
          "name": "stdout",
          "text": [
            "Liczba rzeczowników: 2, oraz liczba przymiotników: 1\n"
          ]
        }
      ]
    },
    {
      "cell_type": "code",
      "source": [
        "for ent in doc.ents:\n",
        "  print(ent.text, ent.label_)\n"
      ],
      "metadata": {
        "id": "9gMOAJcJ9-cf"
      },
      "execution_count": null,
      "outputs": []
    },
    {
      "cell_type": "code",
      "source": [
        "for elem in doc:\n",
        "  print(elem.pos_)"
      ],
      "metadata": {
        "id": "okG6vT1M9zMH"
      },
      "execution_count": null,
      "outputs": []
    },
    {
      "cell_type": "markdown",
      "source": [
        "Rich"
      ],
      "metadata": {
        "id": "P5eC-XNd-hd-"
      }
    },
    {
      "cell_type": "code",
      "source": [
        "from rich import inspect"
      ],
      "metadata": {
        "id": "DhpOZIH7-hFJ"
      },
      "execution_count": null,
      "outputs": []
    },
    {
      "cell_type": "code",
      "source": [
        "inspect(pd.DataFrame, methods = True)"
      ],
      "metadata": {
        "id": "Itdsm-uo-00P"
      },
      "execution_count": null,
      "outputs": []
    },
    {
      "cell_type": "markdown",
      "source": [
        "Wczytywanie plików"
      ],
      "metadata": {
        "id": "W_p0pWUB_12W"
      }
    },
    {
      "cell_type": "code",
      "source": [
        "plik = open(\"/content/piesni-nota-edytorska.txt\", 'r')"
      ],
      "metadata": {
        "id": "_MEKET_a_952"
      },
      "execution_count": null,
      "outputs": []
    },
    {
      "cell_type": "code",
      "source": [
        "plik.readlines()"
      ],
      "metadata": {
        "id": "gSw65ug0BxSn"
      },
      "execution_count": null,
      "outputs": []
    },
    {
      "cell_type": "code",
      "source": [
        "with open(\"/content/piesni-nota-edytorska.txt\", 'r') as f:\n",
        "  plik = f.read()"
      ],
      "metadata": {
        "id": "gXZXv6tCCcrf"
      },
      "execution_count": null,
      "outputs": []
    },
    {
      "cell_type": "code",
      "source": [
        "def read_file(path):\n",
        "  with open(path, 'r') as f:\n",
        "    plik = f.read().replace(\"\\n\", \" \").replace(\"  \", \"\")\n",
        "    return plik\n"
      ],
      "metadata": {
        "id": "_Ft5bco0C1ou"
      },
      "execution_count": null,
      "outputs": []
    },
    {
      "cell_type": "code",
      "source": [
        "plik = read_file(\"/content/piesni-nota-edytorska.txt\")"
      ],
      "metadata": {
        "id": "lI-NvoZkDNtm"
      },
      "execution_count": null,
      "outputs": []
    },
    {
      "cell_type": "code",
      "source": [
        "plik"
      ],
      "metadata": {
        "id": "8uLS8YPWDeol"
      },
      "execution_count": null,
      "outputs": []
    },
    {
      "cell_type": "markdown",
      "source": [
        "Słownik - dictionary (dict)"
      ],
      "metadata": {
        "id": "X9CJ09V7Dunm"
      }
    },
    {
      "cell_type": "code",
      "source": [
        "# KEY:VALUE"
      ],
      "metadata": {
        "id": "wvyzXnP0D42B"
      },
      "execution_count": null,
      "outputs": []
    },
    {
      "cell_type": "code",
      "source": [
        "pies = {\"imie\" : \"Serdel\", \"rasa\" : \"Husky\", \"ulubione_smaczki\" : [\"parówki\", \"jabłka\"], \"wiek\" : 5}"
      ],
      "metadata": {
        "id": "NtUj9p5qEOm1"
      },
      "execution_count": null,
      "outputs": []
    },
    {
      "cell_type": "code",
      "source": [
        "pies.get(\"Nazwisko\", \"Brak klucza w bazie danych\")"
      ],
      "metadata": {
        "colab": {
          "base_uri": "https://localhost:8080/",
          "height": 35
        },
        "id": "nEkkraqEEXNt",
        "outputId": "29d1c411-6065-4e1a-dc67-76cac562ef40"
      },
      "execution_count": null,
      "outputs": [
        {
          "output_type": "execute_result",
          "data": {
            "application/vnd.google.colaboratory.intrinsic+json": {
              "type": "string"
            },
            "text/plain": [
              "'Brak klucza w bazie danych'"
            ]
          },
          "metadata": {},
          "execution_count": 72
        }
      ]
    },
    {
      "cell_type": "code",
      "source": [
        "pies[\"Nazwisko\"] = \"Kowalski\""
      ],
      "metadata": {
        "id": "qhRdEoGLGhSV"
      },
      "execution_count": null,
      "outputs": []
    },
    {
      "cell_type": "code",
      "source": [
        "pies"
      ],
      "metadata": {
        "colab": {
          "base_uri": "https://localhost:8080/"
        },
        "id": "E6FXyanRGogl",
        "outputId": "7cea8967-d593-4237-d417-af0eb0c38d91"
      },
      "execution_count": null,
      "outputs": [
        {
          "output_type": "execute_result",
          "data": {
            "text/plain": [
              "{'Nazwisko': 'Kowalski',\n",
              " 'imie': 'Serdel',\n",
              " 'nazwisko': 'Kowalski',\n",
              " 'rasa': 'Husky',\n",
              " 'ulubione_smaczki': ['parówki', 'jabłka'],\n",
              " 'wiek': 5}"
            ]
          },
          "metadata": {},
          "execution_count": 79
        }
      ]
    },
    {
      "cell_type": "code",
      "source": [
        "pies.items()"
      ],
      "metadata": {
        "colab": {
          "base_uri": "https://localhost:8080/"
        },
        "id": "bkeKfqquHGp2",
        "outputId": "3bb23f59-b6ae-4e10-9c28-d044e231fc62"
      },
      "execution_count": null,
      "outputs": [
        {
          "output_type": "execute_result",
          "data": {
            "text/plain": [
              "dict_items([('imie', 'Serdel'), ('rasa', 'Husky'), ('ulubione_smaczki', ['parówki', 'jabłka']), ('wiek', 5), ('nazwisko', 'Kowalski'), ('Nazwisko', 'Kowalski')])"
            ]
          },
          "metadata": {},
          "execution_count": 78
        }
      ]
    },
    {
      "cell_type": "code",
      "source": [
        "for k, v in pies.items():\n",
        "  print(k, v)"
      ],
      "metadata": {
        "colab": {
          "base_uri": "https://localhost:8080/"
        },
        "id": "Jnpq6LX-G7sm",
        "outputId": "9aed172c-4995-4dd7-d335-890d015a3adc"
      },
      "execution_count": null,
      "outputs": [
        {
          "output_type": "stream",
          "name": "stdout",
          "text": [
            "imie Serdel\n",
            "rasa Husky\n",
            "ulubione_smaczki ['parówki', 'jabłka']\n",
            "wiek 5\n",
            "nazwisko Kowalski\n",
            "Nazwisko Kowalski\n"
          ]
        }
      ]
    },
    {
      "cell_type": "code",
      "source": [
        "def create_user():\n",
        "\n",
        "  user = {}\n",
        "\n",
        "  imie = input(\"Podaj swoje imie: \")\n",
        "  nazwisko = input(\"Podaj swoje nazwisko: \")\n",
        "  wiek = int(input(\"Podaj swoje wiek: \"))\n",
        "\n",
        "  user[\"imie\"] = imie\n",
        "  user[\"nazwisko\"] = nazwisko\n",
        "  user[\"wiek\"] = wiek\n",
        "\n",
        "  return user\n",
        "\n",
        "\n",
        "\n"
      ],
      "metadata": {
        "id": "9DCc8jhkH1Ut"
      },
      "execution_count": null,
      "outputs": []
    },
    {
      "cell_type": "code",
      "source": [
        "user1 = create_user()"
      ],
      "metadata": {
        "id": "V46j9FN0IS8G"
      },
      "execution_count": null,
      "outputs": []
    },
    {
      "cell_type": "code",
      "source": [
        "user2 = create_user()"
      ],
      "metadata": {
        "id": "84BpTYkuIwL-"
      },
      "execution_count": null,
      "outputs": []
    },
    {
      "cell_type": "code",
      "source": [
        "user1, user2"
      ],
      "metadata": {
        "id": "3lY5coCiI2nl"
      },
      "execution_count": null,
      "outputs": []
    }
  ]
}