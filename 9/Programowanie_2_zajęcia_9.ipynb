{
  "nbformat": 4,
  "nbformat_minor": 0,
  "metadata": {
    "colab": {
      "name": "Programowanie 2 - zajęcia 9",
      "provenance": []
    },
    "kernelspec": {
      "name": "python3",
      "display_name": "Python 3"
    },
    "language_info": {
      "name": "python"
    }
  },
  "cells": [
    {
      "cell_type": "code",
      "execution_count": 14,
      "metadata": {
        "colab": {
          "base_uri": "https://localhost:8080/"
        },
        "id": "GqmIQ8U0q1rt",
        "outputId": "0470b10c-8099-47b6-8681-085723e07163"
      },
      "outputs": [
        {
          "output_type": "stream",
          "name": "stdout",
          "text": [
            "Done\n"
          ]
        }
      ],
      "source": [
        "import pandas as pd\n",
        "import numpy as np\n",
        "from tqdm import tqdm\n",
        "print(\"Done\")"
      ]
    },
    {
      "cell_type": "code",
      "source": [
        "#zad2 \n",
        "lista1 = [\"Patryk\", \"Ala\", \"Jacek\"]\n",
        "lista2 = []\n",
        "\n",
        "print(lista1)\n",
        "print(lista2)\n",
        "\n",
        "while len(lista1) != 0:\n",
        "  for i in lista1:\n",
        "    lista2.append(i)\n",
        "    lista1.remove(i)\n",
        "\n",
        "print(lista1)\n",
        "print(lista2)\n",
        "\n"
      ],
      "metadata": {
        "id": "aJ3nSzZjrMzr"
      },
      "execution_count": null,
      "outputs": []
    },
    {
      "cell_type": "code",
      "source": [
        "def funkcja_lista(x1, x2):\n",
        "  while len(x1) != 0:\n",
        "    for i in x1:\n",
        "      x2.append(i)\n",
        "      x1.remove(i)\n",
        "  print(x1)\n",
        "  print(x2)\n",
        "\n"
      ],
      "metadata": {
        "id": "gPS77mV-sWuk"
      },
      "execution_count": 11,
      "outputs": []
    },
    {
      "cell_type": "code",
      "source": [
        "lista1 = [\"Patryk\", \"Ala\", \"Jacek\"]\n",
        "lista2 = []\n",
        "\n",
        "funkcja_lista(lista1, lista2)"
      ],
      "metadata": {
        "id": "oNWIdWKgxJrj"
      },
      "execution_count": null,
      "outputs": []
    },
    {
      "cell_type": "code",
      "source": [
        "#Zad3\n",
        "\n",
        "MAIN_DF = pd.read_csv(\"/content/train(3).csv\")\n",
        "df = MAIN_DF[[\"Name\", \"Age\", \"Sex\"]].copy()"
      ],
      "metadata": {
        "id": "1tlRTGdXxmcI"
      },
      "execution_count": 18,
      "outputs": []
    },
    {
      "cell_type": "code",
      "source": [
        "df"
      ],
      "metadata": {
        "id": "SV5imaVzyKa9"
      },
      "execution_count": null,
      "outputs": []
    },
    {
      "cell_type": "code",
      "source": [
        "def czy_30(wiek):\n",
        "  if wiek <= 30:\n",
        "    return \"Poniżej 30 lat\"\n",
        "  else:\n",
        "    return \"Powyżej 30 lat\"\n"
      ],
      "metadata": {
        "id": "6vgOUeyIyAws"
      },
      "execution_count": 21,
      "outputs": []
    },
    {
      "cell_type": "code",
      "source": [
        "df[\"Powyżej/Poniżej 30\"] = df[\"Age\"].apply(czy_30)"
      ],
      "metadata": {
        "id": "iP4hXeBwydx3"
      },
      "execution_count": 24,
      "outputs": []
    },
    {
      "cell_type": "code",
      "source": [
        "df"
      ],
      "metadata": {
        "id": "AXLzK3-1ywOK"
      },
      "execution_count": null,
      "outputs": []
    },
    {
      "cell_type": "markdown",
      "source": [
        "Pattern Matching"
      ],
      "metadata": {
        "id": "79vnWnOFzXb-"
      }
    },
    {
      "cell_type": "code",
      "source": [
        "#Wyrażenia regularne (Regex - regular expression)\n",
        "\n",
        "#to metajęzyk (język znaków specjalnych), który wykorzystywany jest do tworzenia wzorców TEKSTOWYCH.\n",
        "#Regexy mają swoją gramatykę, swoje znaki i swoje znaczenie"
      ],
      "metadata": {
        "id": "VAJ4HEd1zb_m"
      },
      "execution_count": null,
      "outputs": []
    },
    {
      "cell_type": "code",
      "source": [
        "import re "
      ],
      "metadata": {
        "id": "VajfxPV60ULb"
      },
      "execution_count": 26,
      "outputs": []
    },
    {
      "cell_type": "code",
      "source": [
        "tekst = \"Nazywam się Patryk Hubar i prowadzę teraz zajęcia. Jan Kowalski słucha\""
      ],
      "metadata": {
        "id": "AwKqcHl60kJg"
      },
      "execution_count": 38,
      "outputs": []
    },
    {
      "cell_type": "code",
      "source": [
        "re.findall(\"[A-Z][a-z]+\\s[A-Z][a-z]+\", tekst)"
      ],
      "metadata": {
        "colab": {
          "base_uri": "https://localhost:8080/"
        },
        "id": "LxysLLzX0m56",
        "outputId": "355e1bba-0006-425d-d968-22acc6f9e6d5"
      },
      "execution_count": 39,
      "outputs": [
        {
          "output_type": "execute_result",
          "data": {
            "text/plain": [
              "['Patryk Hubar', 'Jan Kowalski']"
            ]
          },
          "metadata": {},
          "execution_count": 39
        }
      ]
    }
  ]
}